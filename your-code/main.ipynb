{
 "cells": [
  {
   "cell_type": "markdown",
   "metadata": {},
   "source": [
    "# Web Scraping Lab\n",
    "\n",
    "You will find in this notebook some scrapy exercises to practise your scraping skills.\n",
    "\n",
    "**Tips:**\n",
    "\n",
    "- Check the response status code for each request to ensure you have obtained the intended contennt.\n",
    "- Print the response text in each request to understand the kind of info you are getting and its format.\n",
    "- Check for patterns in the response text to extract the data/info requested in each question.\n",
    "- Visit each url and take a look at its source through Chrome DevTools. You'll need to identify the html tags, special class names etc. used for the html content you are expected to extract."
   ]
  },
  {
   "cell_type": "markdown",
   "metadata": {},
   "source": [
    "- [Selenium Doc](https://www.selenium.dev/documentation/)\n",
    "- [Requests library](http://docs.python-requests.org/en/master/#the-user-guide) documentation \n",
    "- [Urllib](https://docs.python.org/3/library/urllib.html#module-urllib)\n",
    "- [re lib](https://docs.python.org/3/library/re.html)\n",
    "- [lxml lib](https://lxml.de/)\n",
    "- [Scrapy](https://scrapy.org/)\n",
    "- [List of HTTP status codes](https://en.wikipedia.org/wiki/List_of_HTTP_status_codes)\n",
    "- [HTML basics](http://www.simplehtmlguide.com/cheatsheet.php)\n",
    "- [CSS basics](https://www.cssbasics.com/#page_start)"
   ]
  },
  {
   "cell_type": "markdown",
   "metadata": {},
   "source": [
    "#### Below are the libraries and modules you may need. `Selenium` and `pandas` are imported for you."
   ]
  },
  {
   "cell_type": "code",
   "execution_count": 176,
   "metadata": {},
   "outputs": [],
   "source": [
    "import pandas as pd\n",
    "from selenium.webdriver.chrome.options import Options\n",
    "from webdriver_manager.chrome import ChromeDriverManager"
   ]
  },
  {
   "cell_type": "code",
   "execution_count": 182,
   "metadata": {},
   "outputs": [],
   "source": [
    "from selenium import webdriver\n",
    "from selenium.webdriver.common.by import By\n",
    "import time\n",
    "import regex as re"
   ]
  },
  {
   "cell_type": "markdown",
   "metadata": {},
   "source": [
    "#### Enable the options you may need. In the next cell you have an example of them but you can choose to use them or not."
   ]
  },
  {
   "cell_type": "code",
   "execution_count": 92,
   "metadata": {},
   "outputs": [],
   "source": [
    "#driver configuration\n",
    "opciones=Options()\n",
    "\n",
    "opciones.add_experimental_option('excludeSwitches', ['enable-automation'])\n",
    "opciones.add_experimental_option('useAutomationExtension', False)\n",
    "opciones.headless=False    # si True, no aperece la ventana (headless=no visible)\n",
    "opciones.add_argument('--start-maximized')         # comienza maximizado\n",
    "#opciones.add_argument('user-data-dir=selenium')    # mantiene las cookies\n",
    "#opciones.add_extension('driver_folder/adblock.crx')       # adblocker\n",
    "#opciones.add_argument('--incognito')"
   ]
  },
  {
   "cell_type": "code",
   "execution_count": 93,
   "metadata": {},
   "outputs": [],
   "source": [
    "#//driver = \"./chromedriver.exe\" #remember substitute this for your driver path\n",
    "#//driver = webdriver.Chrome(driver,options = opciones)\n",
    "\n",
    "PATH=ChromeDriverManager().install()      "
   ]
  },
  {
   "cell_type": "markdown",
   "metadata": {},
   "source": [
    "#### Download, parse, and print the content from the Trending Developers page from GitHub:"
   ]
  },
  {
   "cell_type": "code",
   "execution_count": 94,
   "metadata": {},
   "outputs": [],
   "source": [
    "# This is the url you will scrape in this exercise\n",
    "url = 'https://github.com/trending/developers'"
   ]
  },
  {
   "cell_type": "markdown",
   "metadata": {},
   "source": [
    "#### Display the names of the trending developers retrieved in the previous step.\n",
    "\n",
    "Your output should be a Python list of developer names. Each name should not contain any html tag.\n",
    "\n",
    "**Instructions:**\n",
    "\n",
    "1. Find out the html tag and class names used for the developer names.\n",
    "\n",
    "1. Use string manipulation techniques to replace whitespaces and linebreaks (i.e. `\\n`) in the *text* of each html element. Use a list to store the clean names.\n",
    "\n",
    "1. Print the list of names.\n",
    "\n",
    "Your output should look like below:\n",
    "\n",
    "```\n",
    "['trimstray (@trimstray)',\n",
    " 'joewalnes (JoeWalnes)',\n",
    " 'charlax (Charles-AxelDein)',\n",
    " 'ForrestKnight (ForrestKnight)',\n",
    " 'revery-ui (revery-ui)',\n",
    " 'alibaba (Alibaba)',\n",
    " 'Microsoft (Microsoft)',\n",
    " 'github (GitHub)',\n",
    " 'facebook (Facebook)',\n",
    " 'boazsegev (Bo)',\n",
    " 'google (Google)',\n",
    " 'cloudfetch',\n",
    " 'sindresorhus (SindreSorhus)',\n",
    " 'tensorflow',\n",
    " 'apache (TheApacheSoftwareFoundation)',\n",
    " 'DevonCrawford (DevonCrawford)',\n",
    " 'ARMmbed (ArmMbed)',\n",
    " 'vuejs (vuejs)',\n",
    " 'fastai (fast.ai)',\n",
    " 'QiShaoXuan (Qi)',\n",
    " 'joelparkerhenderson (JoelParkerHenderson)',\n",
    " 'torvalds (LinusTorvalds)',\n",
    " 'CyC2018',\n",
    " 'komeiji-satori (神楽坂覚々)',\n",
    " 'script-8']\n",
    " ```"
   ]
  },
  {
   "cell_type": "code",
   "execution_count": 95,
   "metadata": {},
   "outputs": [
    {
     "name": "stderr",
     "output_type": "stream",
     "text": [
      "C:\\Users\\diego\\AppData\\Local\\Temp\\ipykernel_13408\\898106761.py:1: DeprecationWarning: executable_path has been deprecated, please pass in a Service object\n",
      "  driver= webdriver.Chrome(PATH,options=opciones)\n"
     ]
    }
   ],
   "source": [
    "driver= webdriver.Chrome(PATH,options=opciones)\n",
    "driver.get(url)"
   ]
  },
  {
   "cell_type": "code",
   "execution_count": 129,
   "metadata": {},
   "outputs": [],
   "source": [
    "deve=driver.find_elements(By.CLASS_NAME,'h3.lh-condensed')"
   ]
  },
  {
   "cell_type": "code",
   "execution_count": 130,
   "metadata": {},
   "outputs": [
    {
     "data": {
      "text/plain": [
       "'Nikita Sobolev'"
      ]
     },
     "execution_count": 130,
     "metadata": {},
     "output_type": "execute_result"
    }
   ],
   "source": [
    "deve[0].text\n",
    "#dee=[i.text for i in driver.find_elements(By.CLASS_NAME,'h3.lh-condensed')] Para hacer todo este ejercicio en una linea"
   ]
  },
  {
   "cell_type": "code",
   "execution_count": 143,
   "metadata": {},
   "outputs": [
    {
     "data": {
      "text/plain": [
       "'\\nlst=[]\\nfor i in deve:\\n    lst.append(i.text)\\n'"
      ]
     },
     "execution_count": 143,
     "metadata": {},
     "output_type": "execute_result"
    }
   ],
   "source": [
    "dee=[i for i in deve]\n",
    "\n",
    "'''\n",
    "lst=[]\n",
    "for i in deve:\n",
    "    lst.append(i.text)\n",
    "'''"
   ]
  },
  {
   "cell_type": "code",
   "execution_count": 148,
   "metadata": {},
   "outputs": [],
   "source": [
    "dev=driver.find_elements(By.CLASS_NAME,\"f4 text-normal mb-1\")\n",
    "deev=[i for i in dev]"
   ]
  },
  {
   "cell_type": "code",
   "execution_count": null,
   "metadata": {},
   "outputs": [],
   "source": [
    "tabla=zip(dee,deev)\n",
    "tabla=[i for i in tabla3]\n",
    "tabla\n"
   ]
  },
  {
   "cell_type": "markdown",
   "metadata": {},
   "source": [
    "### Display the trending Python repositories in GitHub"
   ]
  },
  {
   "cell_type": "code",
   "execution_count": 79,
   "metadata": {},
   "outputs": [],
   "source": [
    "#The steps to solve this problem is similar to the previous one except that you need to find out the repository names instead of developer names."
   ]
  },
  {
   "cell_type": "code",
   "execution_count": 154,
   "metadata": {},
   "outputs": [],
   "source": [
    "# This is the url you will scrape in this exercise\n",
    "url = 'https://github.com/trending/python?since=daily'"
   ]
  },
  {
   "cell_type": "code",
   "execution_count": 155,
   "metadata": {},
   "outputs": [
    {
     "name": "stderr",
     "output_type": "stream",
     "text": [
      "C:\\Users\\diego\\AppData\\Local\\Temp\\ipykernel_13408\\898106761.py:1: DeprecationWarning: executable_path has been deprecated, please pass in a Service object\n",
      "  driver= webdriver.Chrome(PATH,options=opciones)\n"
     ]
    }
   ],
   "source": [
    "driver= webdriver.Chrome(PATH,options=opciones)\n",
    "driver.get(url)"
   ]
  },
  {
   "cell_type": "code",
   "execution_count": 169,
   "metadata": {},
   "outputs": [
    {
     "data": {
      "text/plain": [
       "['public-apis / public-apis',\n",
       " 'bregman-arie / devops-exercises',\n",
       " 'facebookresearch / fairseq',\n",
       " 'cloneofsimo / paint-with-words-sd',\n",
       " 'Azure / azure-cli',\n",
       " 'caronc / apprise',\n",
       " 'joweich / chat-miner',\n",
       " 'PaddlePaddle / PaddleTS',\n",
       " 'mli / autocut',\n",
       " 'sczhou / CodeFormer',\n",
       " 'unifyai / ivy',\n",
       " 'augmentedstartups / AS-One',\n",
       " 'loTus04 / W4SP-Stealer',\n",
       " 'rwightman / pytorch-image-models',\n",
       " 'iterativv / NostalgiaForInfinity',\n",
       " 'getredash / redash',\n",
       " 'ethereum / consensus-specs',\n",
       " 'd8ahazard / sd_dreambooth_extension',\n",
       " 'microsoft / recommenders',\n",
       " 'zulip / zulip',\n",
       " 'ultralytics / yolov5',\n",
       " 'openai / improved-diffusion',\n",
       " 'facebookresearch / ParlAI',\n",
       " 'aliyun / surftrace',\n",
       " 'NVlabs / stylegan2-ada-pytorch']"
      ]
     },
     "execution_count": 169,
     "metadata": {},
     "output_type": "execute_result"
    }
   ],
   "source": [
    "git=driver.find_elements(By.CLASS_NAME,'h3.lh-condensed')\n",
    "git=[i.text for i in deve]\n",
    "git"
   ]
  },
  {
   "cell_type": "code",
   "execution_count": 180,
   "metadata": {},
   "outputs": [],
   "source": [
    "regex=r'\\w+[-\\w]\\w+'\n",
    "\n",
    "def func_reg(reg):\n",
    "    reg=re.findall(regex,reg)\n",
    "    return reg"
   ]
  },
  {
   "cell_type": "code",
   "execution_count": 183,
   "metadata": {},
   "outputs": [
    {
     "data": {
      "text/plain": [
       "['/ public-apis',\n",
       " '/ devops-exercises',\n",
       " '/ fairseq',\n",
       " '/ paint-with',\n",
       " '/ azure-cli',\n",
       " '/ apprise',\n",
       " '/ chat-miner',\n",
       " '/ PaddleTS',\n",
       " '/ autocut',\n",
       " '/ CodeFormer',\n",
       " '/ ivy',\n",
       " '/ AS-One',\n",
       " '/ W4SP-Stealer',\n",
       " '/ pytorch-image',\n",
       " '/ NostalgiaForInfinity',\n",
       " '/ redash',\n",
       " '/ consensus-specs',\n",
       " '/ sd_dreambooth_extension',\n",
       " '/ recommenders',\n",
       " '/ zulip',\n",
       " '/ yolov5',\n",
       " '/ improved-diffusion',\n",
       " '/ ParlAI',\n",
       " '/ surftrace',\n",
       " '/ stylegan2-ada']"
      ]
     },
     "execution_count": 183,
     "metadata": {},
     "output_type": "execute_result"
    }
   ],
   "source": [
    "Paramap=list(map(func_reg,git))\n",
    "Para=[i for a in Paramap for i in a]\n",
    "Para"
   ]
  },
  {
   "cell_type": "markdown",
   "metadata": {},
   "source": [
    "#### Display all the image links from Walt Disney wikipedia page"
   ]
  },
  {
   "cell_type": "code",
   "execution_count": 189,
   "metadata": {},
   "outputs": [],
   "source": [
    "# This is the url you will scrape in this exercise\n",
    "url = 'https://en.wikipedia.org/wiki/Walt_Disney'"
   ]
  },
  {
   "cell_type": "code",
   "execution_count": 190,
   "metadata": {},
   "outputs": [
    {
     "name": "stderr",
     "output_type": "stream",
     "text": [
      "C:\\Users\\diego\\AppData\\Local\\Temp\\ipykernel_13408\\898106761.py:1: DeprecationWarning: executable_path has been deprecated, please pass in a Service object\n",
      "  driver= webdriver.Chrome(PATH,options=opciones)\n"
     ]
    }
   ],
   "source": [
    "driver= webdriver.Chrome(PATH,options=opciones)\n",
    "driver.get(url)"
   ]
  },
  {
   "cell_type": "code",
   "execution_count": 213,
   "metadata": {},
   "outputs": [],
   "source": [
    "wal=driver.find_elements(By.TAG_NAME,'img')"
   ]
  },
  {
   "cell_type": "code",
   "execution_count": 217,
   "metadata": {},
   "outputs": [
    {
     "data": {
      "text/plain": [
       "['https://upload.wikimedia.org/wikipedia/en/thumb/e/e7/Cscr-featured.svg/20px-Cscr-featured.svg.png',\n",
       " 'https://upload.wikimedia.org/wikipedia/en/thumb/8/8c/Extended-protection-shackle.svg/20px-Extended-protection-shackle.svg.png',\n",
       " 'https://upload.wikimedia.org/wikipedia/commons/thumb/d/df/Walt_Disney_1946.JPG/220px-Walt_Disney_1946.JPG',\n",
       " 'https://upload.wikimedia.org/wikipedia/commons/thumb/8/87/Walt_Disney_1942_signature.svg/150px-Walt_Disney_1942_signature.svg.png',\n",
       " 'https://upload.wikimedia.org/wikipedia/commons/thumb/3/3a/Walt_Disney_Birthplace_Exterior_Hermosa_Chicago_Illinois.jpg/220px-Walt_Disney_Birthplace_Exterior_Hermosa_Chicago_Illinois.jpg',\n",
       " 'https://upload.wikimedia.org/wikipedia/commons/thumb/c/c4/Walt_Disney_envelope_ca._1921.jpg/220px-Walt_Disney_envelope_ca._1921.jpg',\n",
       " 'https://upload.wikimedia.org/wikipedia/commons/thumb/0/0d/Trolley_Troubles_poster.jpg/170px-Trolley_Troubles_poster.jpg',\n",
       " 'https://upload.wikimedia.org/wikipedia/en/thumb/4/4e/Steamboat-willie.jpg/170px-Steamboat-willie.jpg',\n",
       " 'https://upload.wikimedia.org/wikipedia/commons/thumb/5/57/Walt_Disney_1935.jpg/170px-Walt_Disney_1935.jpg',\n",
       " 'https://upload.wikimedia.org/wikipedia/commons/thumb/c/cd/Walt_Disney_Snow_white_1937_trailer_screenshot_%2813%29.jpg/220px-Walt_Disney_Snow_white_1937_trailer_screenshot_%2813%29.jpg',\n",
       " 'https://upload.wikimedia.org/wikipedia/commons/thumb/1/15/Disney_drawing_goofy.jpg/170px-Disney_drawing_goofy.jpg',\n",
       " 'https://upload.wikimedia.org/wikipedia/commons/thumb/8/8c/WaltDisneyplansDisneylandDec1954.jpg/220px-WaltDisneyplansDisneylandDec1954.jpg',\n",
       " 'https://upload.wikimedia.org/wikipedia/commons/thumb/f/ff/Walt_disney_portrait_right.jpg/170px-Walt_disney_portrait_right.jpg',\n",
       " 'https://upload.wikimedia.org/wikipedia/commons/thumb/1/1a/Walt_Disney_Grave.JPG/170px-Walt_Disney_Grave.JPG',\n",
       " 'https://upload.wikimedia.org/wikipedia/commons/thumb/2/2d/Roy_O._Disney_with_Company_at_Press_Conference.jpg/170px-Roy_O._Disney_with_Company_at_Press_Conference.jpg',\n",
       " 'https://upload.wikimedia.org/wikipedia/commons/thumb/1/13/DisneySchiphol1951.jpg/220px-DisneySchiphol1951.jpg',\n",
       " 'https://upload.wikimedia.org/wikipedia/commons/thumb/6/6c/Disney1968.jpg/170px-Disney1968.jpg',\n",
       " 'https://upload.wikimedia.org/wikipedia/commons/thumb/b/b0/Disney_Oscar_1953_%28cropped%29.jpg/170px-Disney_Oscar_1953_%28cropped%29.jpg',\n",
       " 'https://upload.wikimedia.org/wikipedia/en/thumb/4/4a/Commons-logo.svg/30px-Commons-logo.svg.png',\n",
       " 'https://upload.wikimedia.org/wikipedia/commons/thumb/4/4c/Wikisource-logo.svg/38px-Wikisource-logo.svg.png',\n",
       " 'https://upload.wikimedia.org/wikipedia/commons/thumb/f/fa/Wikiquote-logo.svg/34px-Wikiquote-logo.svg.png',\n",
       " 'https://upload.wikimedia.org/wikipedia/en/thumb/8/8a/OOjs_UI_icon_edit-ltr-progressive.svg/10px-OOjs_UI_icon_edit-ltr-progressive.svg.png',\n",
       " 'https://upload.wikimedia.org/wikipedia/en/thumb/8/8a/OOjs_UI_icon_edit-ltr-progressive.svg/10px-OOjs_UI_icon_edit-ltr-progressive.svg.png',\n",
       " 'https://upload.wikimedia.org/wikipedia/commons/thumb/e/e3/Disneyland_Resort_logo.svg/135px-Disneyland_Resort_logo.svg.png',\n",
       " 'https://upload.wikimedia.org/wikipedia/commons/thumb/d/da/Animation_disc.svg/20px-Animation_disc.svg.png',\n",
       " 'https://upload.wikimedia.org/wikipedia/en/thumb/6/69/P_vip.svg/19px-P_vip.svg.png',\n",
       " 'https://upload.wikimedia.org/wikipedia/commons/thumb/1/1a/Magic_Kingdom_castle.jpg/15px-Magic_Kingdom_castle.jpg',\n",
       " 'https://upload.wikimedia.org/wikipedia/en/thumb/e/e7/Video-x-generic.svg/19px-Video-x-generic.svg.png',\n",
       " 'https://upload.wikimedia.org/wikipedia/commons/thumb/a/a3/Flag_of_Los_Angeles_County%2C_California.svg/21px-Flag_of_Los_Angeles_County%2C_California.svg.png',\n",
       " 'https://upload.wikimedia.org/wikipedia/commons/thumb/8/8c/Blank_television_set.svg/21px-Blank_television_set.svg.png',\n",
       " 'https://upload.wikimedia.org/wikipedia/en/thumb/a/a4/Flag_of_the_United_States.svg/21px-Flag_of_the_United_States.svg.png',\n",
       " 'https://upload.wikimedia.org/wikipedia/en/thumb/4/4a/Commons-logo.svg/14px-Commons-logo.svg.png',\n",
       " 'https://upload.wikimedia.org/wikipedia/commons/thumb/f/fa/Wikiquote-logo.svg/16px-Wikiquote-logo.svg.png',\n",
       " 'https://upload.wikimedia.org/wikipedia/commons/thumb/4/4c/Wikisource-logo.svg/18px-Wikisource-logo.svg.png',\n",
       " 'https://upload.wikimedia.org/wikipedia/commons/thumb/f/ff/Wikidata-logo.svg/21px-Wikidata-logo.svg.png',\n",
       " 'https://upload.wikimedia.org/wikipedia/en/thumb/8/8a/OOjs_UI_icon_edit-ltr-progressive.svg/10px-OOjs_UI_icon_edit-ltr-progressive.svg.png',\n",
       " 'https://en.wikipedia.org/static/images/footer/wikimedia-button.png',\n",
       " 'https://en.wikipedia.org/static/images/footer/poweredby_mediawiki_88x31.png']"
      ]
     },
     "execution_count": 217,
     "metadata": {},
     "output_type": "execute_result"
    }
   ],
   "source": [
    "dny=[i.get_attribute('src') for i in wal]\n",
    "dny"
   ]
  },
  {
   "cell_type": "markdown",
   "metadata": {},
   "source": [
    "#### Retrieve an arbitary Wikipedia page of \"Python\" and create a list of links on that page"
   ]
  },
  {
   "cell_type": "code",
   "execution_count": 236,
   "metadata": {},
   "outputs": [],
   "source": [
    "# This is the url you will scrape in this exercise\n",
    "url ='https://en.wikipedia.org/wiki/Python' "
   ]
  },
  {
   "cell_type": "code",
   "execution_count": 254,
   "metadata": {},
   "outputs": [
    {
     "name": "stderr",
     "output_type": "stream",
     "text": [
      "C:\\Users\\diego\\AppData\\Local\\Temp\\ipykernel_13408\\898106761.py:1: DeprecationWarning: executable_path has been deprecated, please pass in a Service object\n",
      "  driver= webdriver.Chrome(PATH,options=opciones)\n"
     ]
    }
   ],
   "source": [
    "driver= webdriver.Chrome(PATH,options=opciones)\n",
    "driver.get(url)"
   ]
  },
  {
   "cell_type": "code",
   "execution_count": 255,
   "metadata": {},
   "outputs": [],
   "source": [
    "python=driver.find_elements(By.TAG_NAME,'a')"
   ]
  },
  {
   "cell_type": "code",
   "execution_count": 256,
   "metadata": {},
   "outputs": [
    {
     "data": {
      "text/plain": [
       "['http://uscode.house.gov/browse.xhtml;jsessionid=77014C3029AB280458C6F50B229EBCA7',\n",
       " 'http://uscode.house.gov/browse.xhtml;jsessionid=77014C3029AB280458C6F50B229EBCA7',\n",
       " 'http://uscode.house.gov/browse.xhtml;jsessionid=77014C3029AB280458C6F50B229EBCA7',\n",
       " 'http://uscode.house.gov/currency/currency.shtml;jsessionid=77014C3029AB280458C6F50B229EBCA7',\n",
       " 'http://uscode.house.gov/classification/tables.shtml;jsessionid=77014C3029AB280458C6F50B229EBCA7',\n",
       " 'http://uscode.house.gov/popularnames/popularnames.htm;jsessionid=77014C3029AB280458C6F50B229EBCA7',\n",
       " 'http://uscode.house.gov/download/download.shtml#.xhtml',\n",
       " 'http://uscode.house.gov/cite.xhtml;jsessionid=77014C3029AB280458C6F50B229EBCA7',\n",
       " 'http://uscode.house.gov/table3/table3years.htm;jsessionid=77014C3029AB280458C6F50B229EBCA7',\n",
       " 'http://uscode.house.gov/tables/usctable1.htm;jsessionid=77014C3029AB280458C6F50B229EBCA7',\n",
       " 'http://uscode.house.gov/download/download.shtml#.xhtml',\n",
       " 'http://uscode.house.gov/about_code.xhtml;jsessionid=77014C3029AB280458C6F50B229EBCA7',\n",
       " 'http://uscode.house.gov/about_classification.xhtml;jsessionid=77014C3029AB280458C6F50B229EBCA7',\n",
       " 'http://uscode.house.gov/detailed_guide.xhtml;jsessionid=77014C3029AB280458C6F50B229EBCA7',\n",
       " 'http://uscode.house.gov/faq.xhtml;jsessionid=77014C3029AB280458C6F50B229EBCA7',\n",
       " 'http://uscode.house.gov/codification/legislation.shtml;jsessionid=77014C3029AB280458C6F50B229EBCA7',\n",
       " 'http://uscode.house.gov/editorialreclassification/reclassification.html;jsessionid=77014C3029AB280458C6F50B229EBCA7',\n",
       " 'http://uscode.house.gov/download/download.shtml;jsessionid=77014C3029AB280458C6F50B229EBCA7',\n",
       " 'http://uscode.house.gov/download/download.shtml#.xhtml',\n",
       " 'https://congress.gov/',\n",
       " 'https://www.govinfo.gov/',\n",
       " 'https://www.govinfo.gov/app/collection/comps/',\n",
       " 'http://uscode.house.gov/download/resources/USLM-User-Guide.pdf',\n",
       " 'http://uscode.house.gov/download/resources/schemaandcss.zip',\n",
       " 'http://uscode.house.gov/download/resources/uscxhtmlcss.zip',\n",
       " 'http://www.gpo.gov/',\n",
       " 'http://uscode.house.gov/currency/currency.shtml',\n",
       " 'http://uscode.house.gov/download/priorreleasepoints.htm',\n",
       " 'http://uscode.house.gov/download/annualhistoricalarchives/annualhistoricalarchives.htm',\n",
       " 'http://uscode.house.gov/download/releasepoints/us/pl/117/214/xml_uscAll@117-214.zip',\n",
       " 'http://uscode.house.gov/download/releasepoints/us/pl/117/214/htm_uscAll@117-214.zip',\n",
       " 'http://uscode.house.gov/download/releasepoints/us/pl/117/214/pcc_uscAll@117-214.zip',\n",
       " 'http://uscode.house.gov/download/releasepoints/us/pl/117/214/pdf_uscAll@117-214.zip',\n",
       " 'http://uscode.house.gov/download/download.shtml#fn',\n",
       " 'http://uscode.house.gov/download/releasepoints/us/pl/117/214/xml_usc01@117-214.zip',\n",
       " 'http://uscode.house.gov/download/releasepoints/us/pl/117/214/htm_usc01@117-214.zip',\n",
       " 'http://uscode.house.gov/download/releasepoints/us/pl/117/214/pcc_usc01@117-214.zip',\n",
       " 'http://uscode.house.gov/download/releasepoints/us/pl/117/214/pdf_usc01@117-214.zip',\n",
       " 'http://uscode.house.gov/download/releasepoints/us/pl/117/214/xml_usc02@117-214.zip',\n",
       " 'http://uscode.house.gov/download/releasepoints/us/pl/117/214/htm_usc02@117-214.zip',\n",
       " 'http://uscode.house.gov/download/releasepoints/us/pl/117/214/pcc_usc02@117-214.zip',\n",
       " 'http://uscode.house.gov/download/releasepoints/us/pl/117/214/pdf_usc02@117-214.zip',\n",
       " 'http://uscode.house.gov/download/download.shtml#fn',\n",
       " 'http://uscode.house.gov/download/releasepoints/us/pl/117/214/xml_usc03@117-214.zip',\n",
       " 'http://uscode.house.gov/download/releasepoints/us/pl/117/214/htm_usc03@117-214.zip',\n",
       " 'http://uscode.house.gov/download/releasepoints/us/pl/117/214/pcc_usc03@117-214.zip',\n",
       " 'http://uscode.house.gov/download/releasepoints/us/pl/117/214/pdf_usc03@117-214.zip',\n",
       " 'http://uscode.house.gov/download/download.shtml#fn',\n",
       " 'http://uscode.house.gov/download/releasepoints/us/pl/117/214/xml_usc04@117-214.zip',\n",
       " 'http://uscode.house.gov/download/releasepoints/us/pl/117/214/htm_usc04@117-214.zip',\n",
       " 'http://uscode.house.gov/download/releasepoints/us/pl/117/214/pcc_usc04@117-214.zip',\n",
       " 'http://uscode.house.gov/download/releasepoints/us/pl/117/214/pdf_usc04@117-214.zip',\n",
       " 'http://uscode.house.gov/download/download.shtml#fn',\n",
       " 'http://uscode.house.gov/download/releasepoints/us/pl/117/214/xml_usc05@117-214.zip',\n",
       " 'http://uscode.house.gov/download/releasepoints/us/pl/117/214/htm_usc05@117-214.zip',\n",
       " 'http://uscode.house.gov/download/releasepoints/us/pl/117/214/pcc_usc05@117-214.zip',\n",
       " 'http://uscode.house.gov/download/releasepoints/us/pl/117/214/pdf_usc05@117-214.zip',\n",
       " 'http://uscode.house.gov/download/releasepoints/us/pl/117/214/xml_usc05a@117-214.zip',\n",
       " 'http://uscode.house.gov/download/releasepoints/us/pl/117/214/htm_usc05a@117-214.zip',\n",
       " 'http://uscode.house.gov/download/releasepoints/us/pl/117/214/pcc_usc05a@117-214.zip',\n",
       " 'http://uscode.house.gov/download/releasepoints/us/pl/117/214/pdf_usc05a@117-214.zip',\n",
       " 'http://uscode.house.gov/download/releasepoints/us/pl/117/214/xml_usc06@117-214.zip',\n",
       " 'http://uscode.house.gov/download/releasepoints/us/pl/117/214/htm_usc06@117-214.zip',\n",
       " 'http://uscode.house.gov/download/releasepoints/us/pl/117/214/pcc_usc06@117-214.zip',\n",
       " 'http://uscode.house.gov/download/releasepoints/us/pl/117/214/pdf_usc06@117-214.zip',\n",
       " 'http://uscode.house.gov/download/releasepoints/us/pl/117/214/xml_usc07@117-214.zip',\n",
       " 'http://uscode.house.gov/download/releasepoints/us/pl/117/214/htm_usc07@117-214.zip',\n",
       " 'http://uscode.house.gov/download/releasepoints/us/pl/117/214/pcc_usc07@117-214.zip',\n",
       " 'http://uscode.house.gov/download/releasepoints/us/pl/117/214/pdf_usc07@117-214.zip',\n",
       " 'http://uscode.house.gov/download/releasepoints/us/pl/117/214/xml_usc08@117-214.zip',\n",
       " 'http://uscode.house.gov/download/releasepoints/us/pl/117/214/htm_usc08@117-214.zip',\n",
       " 'http://uscode.house.gov/download/releasepoints/us/pl/117/214/pcc_usc08@117-214.zip',\n",
       " 'http://uscode.house.gov/download/releasepoints/us/pl/117/214/pdf_usc08@117-214.zip',\n",
       " 'http://uscode.house.gov/download/download.shtml#fn',\n",
       " 'http://uscode.house.gov/download/releasepoints/us/pl/117/214/xml_usc09@117-214.zip',\n",
       " 'http://uscode.house.gov/download/releasepoints/us/pl/117/214/htm_usc09@117-214.zip',\n",
       " 'http://uscode.house.gov/download/releasepoints/us/pl/117/214/pcc_usc09@117-214.zip',\n",
       " 'http://uscode.house.gov/download/releasepoints/us/pl/117/214/pdf_usc09@117-214.zip',\n",
       " 'http://uscode.house.gov/download/download.shtml#fn',\n",
       " 'http://uscode.house.gov/download/releasepoints/us/pl/117/214/xml_usc10@117-214.zip',\n",
       " 'http://uscode.house.gov/download/releasepoints/us/pl/117/214/htm_usc10@117-214.zip',\n",
       " 'http://uscode.house.gov/download/releasepoints/us/pl/117/214/pcc_usc10@117-214.zip',\n",
       " 'http://uscode.house.gov/download/releasepoints/us/pl/117/214/pdf_usc10@117-214.zip',\n",
       " 'http://uscode.house.gov/download/download.shtml#fn',\n",
       " 'http://uscode.house.gov/download/releasepoints/us/pl/117/214/xml_usc11@117-214.zip',\n",
       " 'http://uscode.house.gov/download/releasepoints/us/pl/117/214/htm_usc11@117-214.zip',\n",
       " 'http://uscode.house.gov/download/releasepoints/us/pl/117/214/pcc_usc11@117-214.zip',\n",
       " 'http://uscode.house.gov/download/releasepoints/us/pl/117/214/pdf_usc11@117-214.zip',\n",
       " 'http://uscode.house.gov/download/releasepoints/us/pl/117/214/xml_usc11a@117-214.zip',\n",
       " 'http://uscode.house.gov/download/releasepoints/us/pl/117/214/htm_usc11a@117-214.zip',\n",
       " 'http://uscode.house.gov/download/releasepoints/us/pl/117/214/pcc_usc11a@117-214.zip',\n",
       " 'http://uscode.house.gov/download/releasepoints/us/pl/117/214/pdf_usc11a@117-214.zip',\n",
       " 'http://uscode.house.gov/download/releasepoints/us/pl/117/214/xml_usc12@117-214.zip',\n",
       " 'http://uscode.house.gov/download/releasepoints/us/pl/117/214/htm_usc12@117-214.zip',\n",
       " 'http://uscode.house.gov/download/releasepoints/us/pl/117/214/pcc_usc12@117-214.zip',\n",
       " 'http://uscode.house.gov/download/releasepoints/us/pl/117/214/pdf_usc12@117-214.zip',\n",
       " 'http://uscode.house.gov/download/download.shtml#fn',\n",
       " 'http://uscode.house.gov/download/releasepoints/us/pl/117/214/xml_usc13@117-214.zip',\n",
       " 'http://uscode.house.gov/download/releasepoints/us/pl/117/214/htm_usc13@117-214.zip',\n",
       " 'http://uscode.house.gov/download/releasepoints/us/pl/117/214/pcc_usc13@117-214.zip',\n",
       " 'http://uscode.house.gov/download/releasepoints/us/pl/117/214/pdf_usc13@117-214.zip',\n",
       " 'http://uscode.house.gov/download/download.shtml#fn',\n",
       " 'http://uscode.house.gov/download/releasepoints/us/pl/117/214/xml_usc14@117-214.zip',\n",
       " 'http://uscode.house.gov/download/releasepoints/us/pl/117/214/htm_usc14@117-214.zip',\n",
       " 'http://uscode.house.gov/download/releasepoints/us/pl/117/214/pcc_usc14@117-214.zip',\n",
       " 'http://uscode.house.gov/download/releasepoints/us/pl/117/214/pdf_usc14@117-214.zip',\n",
       " 'http://uscode.house.gov/download/releasepoints/us/pl/117/214/xml_usc15@117-214.zip',\n",
       " 'http://uscode.house.gov/download/releasepoints/us/pl/117/214/htm_usc15@117-214.zip',\n",
       " 'http://uscode.house.gov/download/releasepoints/us/pl/117/214/pcc_usc15@117-214.zip',\n",
       " 'http://uscode.house.gov/download/releasepoints/us/pl/117/214/pdf_usc15@117-214.zip',\n",
       " 'http://uscode.house.gov/download/releasepoints/us/pl/117/214/xml_usc16@117-214.zip',\n",
       " 'http://uscode.house.gov/download/releasepoints/us/pl/117/214/htm_usc16@117-214.zip',\n",
       " 'http://uscode.house.gov/download/releasepoints/us/pl/117/214/pcc_usc16@117-214.zip',\n",
       " 'http://uscode.house.gov/download/releasepoints/us/pl/117/214/pdf_usc16@117-214.zip',\n",
       " 'http://uscode.house.gov/download/download.shtml#fn',\n",
       " 'http://uscode.house.gov/download/releasepoints/us/pl/117/214/xml_usc17@117-214.zip',\n",
       " 'http://uscode.house.gov/download/releasepoints/us/pl/117/214/htm_usc17@117-214.zip',\n",
       " 'http://uscode.house.gov/download/releasepoints/us/pl/117/214/pcc_usc17@117-214.zip',\n",
       " 'http://uscode.house.gov/download/releasepoints/us/pl/117/214/pdf_usc17@117-214.zip',\n",
       " 'http://uscode.house.gov/download/download.shtml#fn',\n",
       " 'http://uscode.house.gov/download/releasepoints/us/pl/117/214/xml_usc18@117-214.zip',\n",
       " 'http://uscode.house.gov/download/releasepoints/us/pl/117/214/htm_usc18@117-214.zip',\n",
       " 'http://uscode.house.gov/download/releasepoints/us/pl/117/214/pcc_usc18@117-214.zip',\n",
       " 'http://uscode.house.gov/download/releasepoints/us/pl/117/214/pdf_usc18@117-214.zip',\n",
       " 'http://uscode.house.gov/download/releasepoints/us/pl/117/214/xml_usc18a@117-214.zip',\n",
       " 'http://uscode.house.gov/download/releasepoints/us/pl/117/214/htm_usc18a@117-214.zip',\n",
       " 'http://uscode.house.gov/download/releasepoints/us/pl/117/214/pcc_usc18a@117-214.zip',\n",
       " 'http://uscode.house.gov/download/releasepoints/us/pl/117/214/pdf_usc18a@117-214.zip',\n",
       " 'http://uscode.house.gov/download/releasepoints/us/pl/117/214/xml_usc19@117-214.zip',\n",
       " 'http://uscode.house.gov/download/releasepoints/us/pl/117/214/htm_usc19@117-214.zip',\n",
       " 'http://uscode.house.gov/download/releasepoints/us/pl/117/214/pcc_usc19@117-214.zip',\n",
       " 'http://uscode.house.gov/download/releasepoints/us/pl/117/214/pdf_usc19@117-214.zip',\n",
       " 'http://uscode.house.gov/download/releasepoints/us/pl/117/214/xml_usc20@117-214.zip',\n",
       " 'http://uscode.house.gov/download/releasepoints/us/pl/117/214/htm_usc20@117-214.zip',\n",
       " 'http://uscode.house.gov/download/releasepoints/us/pl/117/214/pcc_usc20@117-214.zip',\n",
       " 'http://uscode.house.gov/download/releasepoints/us/pl/117/214/pdf_usc20@117-214.zip',\n",
       " 'http://uscode.house.gov/download/releasepoints/us/pl/117/214/xml_usc21@117-214.zip',\n",
       " 'http://uscode.house.gov/download/releasepoints/us/pl/117/214/htm_usc21@117-214.zip',\n",
       " 'http://uscode.house.gov/download/releasepoints/us/pl/117/214/pcc_usc21@117-214.zip',\n",
       " 'http://uscode.house.gov/download/releasepoints/us/pl/117/214/pdf_usc21@117-214.zip',\n",
       " 'http://uscode.house.gov/download/releasepoints/us/pl/117/214/xml_usc22@117-214.zip',\n",
       " 'http://uscode.house.gov/download/releasepoints/us/pl/117/214/htm_usc22@117-214.zip',\n",
       " 'http://uscode.house.gov/download/releasepoints/us/pl/117/214/pcc_usc22@117-214.zip',\n",
       " 'http://uscode.house.gov/download/releasepoints/us/pl/117/214/pdf_usc22@117-214.zip',\n",
       " 'http://uscode.house.gov/download/download.shtml#fn',\n",
       " 'http://uscode.house.gov/download/releasepoints/us/pl/117/214/xml_usc23@117-214.zip',\n",
       " 'http://uscode.house.gov/download/releasepoints/us/pl/117/214/htm_usc23@117-214.zip',\n",
       " 'http://uscode.house.gov/download/releasepoints/us/pl/117/214/pcc_usc23@117-214.zip',\n",
       " 'http://uscode.house.gov/download/releasepoints/us/pl/117/214/pdf_usc23@117-214.zip',\n",
       " 'http://uscode.house.gov/download/releasepoints/us/pl/117/214/xml_usc24@117-214.zip',\n",
       " 'http://uscode.house.gov/download/releasepoints/us/pl/117/214/htm_usc24@117-214.zip',\n",
       " 'http://uscode.house.gov/download/releasepoints/us/pl/117/214/pcc_usc24@117-214.zip',\n",
       " 'http://uscode.house.gov/download/releasepoints/us/pl/117/214/pdf_usc24@117-214.zip',\n",
       " 'http://uscode.house.gov/download/releasepoints/us/pl/117/214/xml_usc25@117-214.zip',\n",
       " 'http://uscode.house.gov/download/releasepoints/us/pl/117/214/htm_usc25@117-214.zip',\n",
       " 'http://uscode.house.gov/download/releasepoints/us/pl/117/214/pcc_usc25@117-214.zip',\n",
       " 'http://uscode.house.gov/download/releasepoints/us/pl/117/214/pdf_usc25@117-214.zip',\n",
       " 'http://uscode.house.gov/download/releasepoints/us/pl/117/214/xml_usc26@117-214.zip',\n",
       " 'http://uscode.house.gov/download/releasepoints/us/pl/117/214/htm_usc26@117-214.zip',\n",
       " 'http://uscode.house.gov/download/releasepoints/us/pl/117/214/pcc_usc26@117-214.zip',\n",
       " 'http://uscode.house.gov/download/releasepoints/us/pl/117/214/pdf_usc26@117-214.zip',\n",
       " 'http://uscode.house.gov/download/releasepoints/us/pl/117/214/xml_usc27@117-214.zip',\n",
       " 'http://uscode.house.gov/download/releasepoints/us/pl/117/214/htm_usc27@117-214.zip',\n",
       " 'http://uscode.house.gov/download/releasepoints/us/pl/117/214/pcc_usc27@117-214.zip',\n",
       " 'http://uscode.house.gov/download/releasepoints/us/pl/117/214/pdf_usc27@117-214.zip',\n",
       " 'http://uscode.house.gov/download/download.shtml#fn',\n",
       " 'http://uscode.house.gov/download/releasepoints/us/pl/117/214/xml_usc28@117-214.zip',\n",
       " 'http://uscode.house.gov/download/releasepoints/us/pl/117/214/htm_usc28@117-214.zip',\n",
       " 'http://uscode.house.gov/download/releasepoints/us/pl/117/214/pcc_usc28@117-214.zip',\n",
       " 'http://uscode.house.gov/download/releasepoints/us/pl/117/214/pdf_usc28@117-214.zip',\n",
       " 'http://uscode.house.gov/download/releasepoints/us/pl/117/214/xml_usc28a@117-214.zip',\n",
       " 'http://uscode.house.gov/download/releasepoints/us/pl/117/214/htm_usc28a@117-214.zip',\n",
       " 'http://uscode.house.gov/download/releasepoints/us/pl/117/214/pcc_usc28a@117-214.zip',\n",
       " 'http://uscode.house.gov/download/releasepoints/us/pl/117/214/pdf_usc28a@117-214.zip',\n",
       " 'http://uscode.house.gov/download/releasepoints/us/pl/117/214/xml_usc29@117-214.zip',\n",
       " 'http://uscode.house.gov/download/releasepoints/us/pl/117/214/htm_usc29@117-214.zip',\n",
       " 'http://uscode.house.gov/download/releasepoints/us/pl/117/214/pcc_usc29@117-214.zip',\n",
       " 'http://uscode.house.gov/download/releasepoints/us/pl/117/214/pdf_usc29@117-214.zip',\n",
       " 'http://uscode.house.gov/download/releasepoints/us/pl/117/214/xml_usc30@117-214.zip',\n",
       " 'http://uscode.house.gov/download/releasepoints/us/pl/117/214/htm_usc30@117-214.zip',\n",
       " 'http://uscode.house.gov/download/releasepoints/us/pl/117/214/pcc_usc30@117-214.zip',\n",
       " 'http://uscode.house.gov/download/releasepoints/us/pl/117/214/pdf_usc30@117-214.zip',\n",
       " 'http://uscode.house.gov/download/download.shtml#fn',\n",
       " 'http://uscode.house.gov/download/releasepoints/us/pl/117/214/xml_usc31@117-214.zip',\n",
       " 'http://uscode.house.gov/download/releasepoints/us/pl/117/214/htm_usc31@117-214.zip',\n",
       " 'http://uscode.house.gov/download/releasepoints/us/pl/117/214/pcc_usc31@117-214.zip',\n",
       " 'http://uscode.house.gov/download/releasepoints/us/pl/117/214/pdf_usc31@117-214.zip',\n",
       " 'http://uscode.house.gov/download/download.shtml#fn',\n",
       " 'http://uscode.house.gov/download/releasepoints/us/pl/117/214/xml_usc32@117-214.zip',\n",
       " 'http://uscode.house.gov/download/releasepoints/us/pl/117/214/htm_usc32@117-214.zip',\n",
       " 'http://uscode.house.gov/download/releasepoints/us/pl/117/214/pcc_usc32@117-214.zip',\n",
       " 'http://uscode.house.gov/download/releasepoints/us/pl/117/214/pdf_usc32@117-214.zip',\n",
       " 'http://uscode.house.gov/download/releasepoints/us/pl/117/214/xml_usc33@117-214.zip',\n",
       " 'http://uscode.house.gov/download/releasepoints/us/pl/117/214/htm_usc33@117-214.zip',\n",
       " 'http://uscode.house.gov/download/releasepoints/us/pl/117/214/pcc_usc33@117-214.zip',\n",
       " 'http://uscode.house.gov/download/releasepoints/us/pl/117/214/pdf_usc33@117-214.zip',\n",
       " 'http://uscode.house.gov/download/releasepoints/us/pl/117/214/xml_usc34@117-214.zip',\n",
       " 'http://uscode.house.gov/download/releasepoints/us/pl/117/214/htm_usc34@117-214.zip',\n",
       " 'http://uscode.house.gov/download/releasepoints/us/pl/117/214/pcc_usc34@117-214.zip',\n",
       " 'http://uscode.house.gov/download/releasepoints/us/pl/117/214/pdf_usc34@117-214.zip',\n",
       " 'http://uscode.house.gov/download/download.shtml#fn',\n",
       " 'http://uscode.house.gov/download/releasepoints/us/pl/117/214/xml_usc35@117-214.zip',\n",
       " 'http://uscode.house.gov/download/releasepoints/us/pl/117/214/htm_usc35@117-214.zip',\n",
       " 'http://uscode.house.gov/download/releasepoints/us/pl/117/214/pcc_usc35@117-214.zip',\n",
       " 'http://uscode.house.gov/download/releasepoints/us/pl/117/214/pdf_usc35@117-214.zip',\n",
       " 'http://uscode.house.gov/download/download.shtml#fn',\n",
       " 'http://uscode.house.gov/download/releasepoints/us/pl/117/214/xml_usc36@117-214.zip',\n",
       " 'http://uscode.house.gov/download/releasepoints/us/pl/117/214/htm_usc36@117-214.zip',\n",
       " 'http://uscode.house.gov/download/releasepoints/us/pl/117/214/pcc_usc36@117-214.zip',\n",
       " 'http://uscode.house.gov/download/releasepoints/us/pl/117/214/pdf_usc36@117-214.zip',\n",
       " 'http://uscode.house.gov/download/download.shtml#fn',\n",
       " 'http://uscode.house.gov/download/releasepoints/us/pl/117/214/xml_usc37@117-214.zip',\n",
       " 'http://uscode.house.gov/download/releasepoints/us/pl/117/214/htm_usc37@117-214.zip',\n",
       " 'http://uscode.house.gov/download/releasepoints/us/pl/117/214/pcc_usc37@117-214.zip',\n",
       " 'http://uscode.house.gov/download/releasepoints/us/pl/117/214/pdf_usc37@117-214.zip',\n",
       " 'http://uscode.house.gov/download/download.shtml#fn',\n",
       " 'http://uscode.house.gov/download/releasepoints/us/pl/117/214/xml_usc38@117-214.zip',\n",
       " 'http://uscode.house.gov/download/releasepoints/us/pl/117/214/htm_usc38@117-214.zip',\n",
       " 'http://uscode.house.gov/download/releasepoints/us/pl/117/214/pcc_usc38@117-214.zip',\n",
       " 'http://uscode.house.gov/download/releasepoints/us/pl/117/214/pdf_usc38@117-214.zip',\n",
       " 'http://uscode.house.gov/download/download.shtml#fn',\n",
       " 'http://uscode.house.gov/download/releasepoints/us/pl/117/214/xml_usc39@117-214.zip',\n",
       " 'http://uscode.house.gov/download/releasepoints/us/pl/117/214/htm_usc39@117-214.zip',\n",
       " 'http://uscode.house.gov/download/releasepoints/us/pl/117/214/pcc_usc39@117-214.zip',\n",
       " 'http://uscode.house.gov/download/releasepoints/us/pl/117/214/pdf_usc39@117-214.zip',\n",
       " 'http://uscode.house.gov/download/download.shtml#fn',\n",
       " 'http://uscode.house.gov/download/releasepoints/us/pl/117/214/xml_usc40@117-214.zip',\n",
       " 'http://uscode.house.gov/download/releasepoints/us/pl/117/214/htm_usc40@117-214.zip',\n",
       " 'http://uscode.house.gov/download/releasepoints/us/pl/117/214/pcc_usc40@117-214.zip',\n",
       " 'http://uscode.house.gov/download/releasepoints/us/pl/117/214/pdf_usc40@117-214.zip',\n",
       " 'http://uscode.house.gov/download/download.shtml#fn',\n",
       " 'http://uscode.house.gov/download/releasepoints/us/pl/117/214/xml_usc41@117-214.zip',\n",
       " 'http://uscode.house.gov/download/releasepoints/us/pl/117/214/htm_usc41@117-214.zip',\n",
       " 'http://uscode.house.gov/download/releasepoints/us/pl/117/214/pcc_usc41@117-214.zip',\n",
       " 'http://uscode.house.gov/download/releasepoints/us/pl/117/214/pdf_usc41@117-214.zip',\n",
       " 'http://uscode.house.gov/download/releasepoints/us/pl/117/214/xml_usc42@117-214.zip',\n",
       " 'http://uscode.house.gov/download/releasepoints/us/pl/117/214/htm_usc42@117-214.zip',\n",
       " 'http://uscode.house.gov/download/releasepoints/us/pl/117/214/pcc_usc42@117-214.zip',\n",
       " 'http://uscode.house.gov/download/releasepoints/us/pl/117/214/pdf_usc42@117-214.zip',\n",
       " 'http://uscode.house.gov/download/releasepoints/us/pl/117/214/xml_usc43@117-214.zip',\n",
       " 'http://uscode.house.gov/download/releasepoints/us/pl/117/214/htm_usc43@117-214.zip',\n",
       " 'http://uscode.house.gov/download/releasepoints/us/pl/117/214/pcc_usc43@117-214.zip',\n",
       " 'http://uscode.house.gov/download/releasepoints/us/pl/117/214/pdf_usc43@117-214.zip',\n",
       " 'http://uscode.house.gov/download/download.shtml#fn',\n",
       " 'http://uscode.house.gov/download/releasepoints/us/pl/117/214/xml_usc44@117-214.zip',\n",
       " 'http://uscode.house.gov/download/releasepoints/us/pl/117/214/htm_usc44@117-214.zip',\n",
       " 'http://uscode.house.gov/download/releasepoints/us/pl/117/214/pcc_usc44@117-214.zip',\n",
       " 'http://uscode.house.gov/download/releasepoints/us/pl/117/214/pdf_usc44@117-214.zip',\n",
       " 'http://uscode.house.gov/download/releasepoints/us/pl/117/214/xml_usc45@117-214.zip',\n",
       " 'http://uscode.house.gov/download/releasepoints/us/pl/117/214/htm_usc45@117-214.zip',\n",
       " 'http://uscode.house.gov/download/releasepoints/us/pl/117/214/pcc_usc45@117-214.zip',\n",
       " 'http://uscode.house.gov/download/releasepoints/us/pl/117/214/pdf_usc45@117-214.zip',\n",
       " 'http://uscode.house.gov/download/download.shtml#fn',\n",
       " 'http://uscode.house.gov/download/releasepoints/us/pl/117/214/xml_usc46@117-214.zip',\n",
       " 'http://uscode.house.gov/download/releasepoints/us/pl/117/214/htm_usc46@117-214.zip',\n",
       " 'http://uscode.house.gov/download/releasepoints/us/pl/117/214/pcc_usc46@117-214.zip',\n",
       " 'http://uscode.house.gov/download/releasepoints/us/pl/117/214/pdf_usc46@117-214.zip',\n",
       " 'http://uscode.house.gov/download/releasepoints/us/pl/117/214/xml_usc47@117-214.zip',\n",
       " 'http://uscode.house.gov/download/releasepoints/us/pl/117/214/htm_usc47@117-214.zip',\n",
       " 'http://uscode.house.gov/download/releasepoints/us/pl/117/214/pcc_usc47@117-214.zip',\n",
       " 'http://uscode.house.gov/download/releasepoints/us/pl/117/214/pdf_usc47@117-214.zip',\n",
       " 'http://uscode.house.gov/download/releasepoints/us/pl/117/214/xml_usc48@117-214.zip',\n",
       " 'http://uscode.house.gov/download/releasepoints/us/pl/117/214/htm_usc48@117-214.zip',\n",
       " 'http://uscode.house.gov/download/releasepoints/us/pl/117/214/pcc_usc48@117-214.zip',\n",
       " 'http://uscode.house.gov/download/releasepoints/us/pl/117/214/pdf_usc48@117-214.zip',\n",
       " 'http://uscode.house.gov/download/download.shtml#fn',\n",
       " 'http://uscode.house.gov/download/releasepoints/us/pl/117/214/xml_usc49@117-214.zip',\n",
       " 'http://uscode.house.gov/download/releasepoints/us/pl/117/214/htm_usc49@117-214.zip',\n",
       " 'http://uscode.house.gov/download/releasepoints/us/pl/117/214/pcc_usc49@117-214.zip',\n",
       " 'http://uscode.house.gov/download/releasepoints/us/pl/117/214/pdf_usc49@117-214.zip',\n",
       " 'http://uscode.house.gov/download/releasepoints/us/pl/117/214/xml_usc50@117-214.zip',\n",
       " 'http://uscode.house.gov/download/releasepoints/us/pl/117/214/htm_usc50@117-214.zip',\n",
       " 'http://uscode.house.gov/download/releasepoints/us/pl/117/214/pcc_usc50@117-214.zip',\n",
       " 'http://uscode.house.gov/download/releasepoints/us/pl/117/214/pdf_usc50@117-214.zip',\n",
       " 'http://uscode.house.gov/download/releasepoints/us/pl/117/214/xml_usc50a@117-214.zip',\n",
       " 'http://uscode.house.gov/download/releasepoints/us/pl/117/214/htm_usc50a@117-214.zip',\n",
       " 'http://uscode.house.gov/download/releasepoints/us/pl/117/214/pcc_usc50a@117-214.zip',\n",
       " 'http://uscode.house.gov/download/releasepoints/us/pl/117/214/pdf_usc50a@117-214.zip',\n",
       " 'http://uscode.house.gov/download/download.shtml#fn',\n",
       " 'http://uscode.house.gov/download/releasepoints/us/pl/117/214/xml_usc51@117-214.zip',\n",
       " 'http://uscode.house.gov/download/releasepoints/us/pl/117/214/htm_usc51@117-214.zip',\n",
       " 'http://uscode.house.gov/download/releasepoints/us/pl/117/214/pcc_usc51@117-214.zip',\n",
       " 'http://uscode.house.gov/download/releasepoints/us/pl/117/214/pdf_usc51@117-214.zip',\n",
       " 'http://uscode.house.gov/download/releasepoints/us/pl/117/214/xml_usc52@117-214.zip',\n",
       " 'http://uscode.house.gov/download/releasepoints/us/pl/117/214/htm_usc52@117-214.zip',\n",
       " 'http://uscode.house.gov/download/releasepoints/us/pl/117/214/pcc_usc52@117-214.zip',\n",
       " 'http://uscode.house.gov/download/releasepoints/us/pl/117/214/pdf_usc52@117-214.zip',\n",
       " 'http://uscode.house.gov/download/releasepoints/us/pl/117/214/xml_usc53@117-214.zip',\n",
       " 'http://uscode.house.gov/download/releasepoints/us/pl/117/214/htm_usc53@117-214.zip',\n",
       " 'http://uscode.house.gov/download/releasepoints/us/pl/117/214/pcc_usc53@117-214.zip',\n",
       " 'http://uscode.house.gov/download/releasepoints/us/pl/117/214/pdf_usc53@117-214.zip',\n",
       " 'http://uscode.house.gov/download/download.shtml#fn',\n",
       " 'http://uscode.house.gov/download/releasepoints/us/pl/117/214/xml_usc54@117-214.zip',\n",
       " 'http://uscode.house.gov/download/releasepoints/us/pl/117/214/htm_usc54@117-214.zip',\n",
       " 'http://uscode.house.gov/download/releasepoints/us/pl/117/214/pcc_usc54@117-214.zip',\n",
       " 'http://uscode.house.gov/download/releasepoints/us/pl/117/214/pdf_usc54@117-214.zip',\n",
       " 'http://uscode.house.gov/about_office.xhtml;jsessionid=77014C3029AB280458C6F50B229EBCA7',\n",
       " 'http://uscode.house.gov/privacy_policy.xhtml;jsessionid=77014C3029AB280458C6F50B229EBCA7']"
      ]
     },
     "execution_count": 256,
     "metadata": {},
     "output_type": "execute_result"
    }
   ],
   "source": [
    "py=([i.get_attribute('href') for i in python])\n",
    "py"
   ]
  },
  {
   "cell_type": "markdown",
   "metadata": {},
   "source": [
    "#### Number of Titles that have changed in the United States Code since its last release point "
   ]
  },
  {
   "cell_type": "code",
   "execution_count": 257,
   "metadata": {},
   "outputs": [],
   "source": [
    "# This is the url you will scrape in this exercise\n",
    "url = 'http://uscode.house.gov/download/download.shtml'"
   ]
  },
  {
   "cell_type": "code",
   "execution_count": 258,
   "metadata": {},
   "outputs": [
    {
     "name": "stderr",
     "output_type": "stream",
     "text": [
      "C:\\Users\\diego\\AppData\\Local\\Temp\\ipykernel_13408\\898106761.py:1: DeprecationWarning: executable_path has been deprecated, please pass in a Service object\n",
      "  driver= webdriver.Chrome(PATH,options=opciones)\n"
     ]
    }
   ],
   "source": [
    "driver= webdriver.Chrome(PATH,options=opciones)\n",
    "driver.get(url)"
   ]
  },
  {
   "cell_type": "code",
   "execution_count": 261,
   "metadata": {},
   "outputs": [
    {
     "data": {
      "text/plain": [
       "9"
      ]
     },
     "execution_count": 261,
     "metadata": {},
     "output_type": "execute_result"
    }
   ],
   "source": [
    "usc=driver.find_elements(By.CLASS_NAME,'usctitlechanged')\n",
    "usa=[i.text for i in usc]\n",
    "usa\n",
    "#len(usa)"
   ]
  },
  {
   "cell_type": "markdown",
   "metadata": {},
   "source": [
    "#### A Python list with the top ten FBI's Most Wanted names "
   ]
  },
  {
   "cell_type": "code",
   "execution_count": 262,
   "metadata": {},
   "outputs": [],
   "source": [
    "# This is the url you will scrape in this exercise\n",
    "url = 'https://www.fbi.gov/wanted/topten'"
   ]
  },
  {
   "cell_type": "code",
   "execution_count": 263,
   "metadata": {},
   "outputs": [
    {
     "name": "stderr",
     "output_type": "stream",
     "text": [
      "C:\\Users\\diego\\AppData\\Local\\Temp\\ipykernel_13408\\898106761.py:1: DeprecationWarning: executable_path has been deprecated, please pass in a Service object\n",
      "  driver= webdriver.Chrome(PATH,options=opciones)\n"
     ]
    }
   ],
   "source": [
    "driver= webdriver.Chrome(PATH,options=opciones)\n",
    "driver.get(url)"
   ]
  },
  {
   "cell_type": "code",
   "execution_count": 269,
   "metadata": {},
   "outputs": [
    {
     "data": {
      "text/plain": [
       "['OMAR ALEXANDER CARDENAS',\n",
       " 'ALEXIS FLORES',\n",
       " 'JOSE RODOLFO VILLARREAL-HERNANDEZ',\n",
       " 'YULAN ADONAY ARCHAGA CARIAS',\n",
       " 'BHADRESHKUMAR CHETANBHAI PATEL',\n",
       " 'ALEJANDRO ROSALES CASTILLO',\n",
       " 'MICHAEL JAMES PRATT',\n",
       " 'RUJA IGNATOVA',\n",
       " 'ARNOLDO JIMENEZ',\n",
       " 'RAFAEL CARO-QUINTERO']"
      ]
     },
     "execution_count": 269,
     "metadata": {},
     "output_type": "execute_result"
    }
   ],
   "source": [
    "fbi=driver.find_elements(By.CLASS_NAME,'title')\n",
    "fb=[i.text for i in fbi]\n",
    "fb.pop(0)\n",
    "fb"
   ]
  },
  {
   "cell_type": "markdown",
   "metadata": {},
   "source": [
    "####  20 latest earthquakes info (date, time, latitude, longitude and region name) by the EMSC as a pandas dataframe"
   ]
  },
  {
   "cell_type": "code",
   "execution_count": null,
   "metadata": {},
   "outputs": [],
   "source": [
    "# This is the url you will scrape in this exercise\n",
    "url = 'https://www.emsc-csem.org/Earthquake/'"
   ]
  },
  {
   "cell_type": "code",
   "execution_count": null,
   "metadata": {},
   "outputs": [],
   "source": [
    "#your code"
   ]
  },
  {
   "cell_type": "markdown",
   "metadata": {},
   "source": [
    "#### Count number of tweets by a given Twitter account."
   ]
  },
  {
   "cell_type": "markdown",
   "metadata": {},
   "source": [
    "You will need to include a ***try/except block*** for account names not found. \n",
    "<br>***Hint:*** the program should count the number of tweets for any provided account"
   ]
  },
  {
   "cell_type": "code",
   "execution_count": null,
   "metadata": {},
   "outputs": [],
   "source": [
    "# This is the url you will scrape in this exercise \n",
    "# You will need to add the account credentials to this url\n",
    "url = 'https://twitter.com/'"
   ]
  },
  {
   "cell_type": "code",
   "execution_count": null,
   "metadata": {},
   "outputs": [],
   "source": [
    "#your code"
   ]
  },
  {
   "cell_type": "markdown",
   "metadata": {},
   "source": [
    "#### Number of followers of a given twitter account"
   ]
  },
  {
   "cell_type": "markdown",
   "metadata": {},
   "source": [
    "You will need to include a ***try/except block*** in case account/s name not found. \n",
    "<br>***Hint:*** the program should count the followers for any provided account"
   ]
  },
  {
   "cell_type": "code",
   "execution_count": null,
   "metadata": {},
   "outputs": [],
   "source": [
    "# This is the url you will scrape in this exercise \n",
    "# You will need to add the account credentials to this url\n",
    "url = 'https://twitter.com/'"
   ]
  },
  {
   "cell_type": "code",
   "execution_count": null,
   "metadata": {},
   "outputs": [],
   "source": [
    "#your code"
   ]
  },
  {
   "cell_type": "markdown",
   "metadata": {},
   "source": [
    "#### List all language names and number of related articles in the order they appear in wikipedia.org"
   ]
  },
  {
   "cell_type": "code",
   "execution_count": null,
   "metadata": {},
   "outputs": [],
   "source": [
    "# This is the url you will scrape in this exercise\n",
    "url = 'https://www.wikipedia.org/'"
   ]
  },
  {
   "cell_type": "code",
   "execution_count": null,
   "metadata": {},
   "outputs": [],
   "source": [
    "#your code"
   ]
  },
  {
   "cell_type": "markdown",
   "metadata": {},
   "source": [
    "#### A list with the different kind of datasets available in data.gov.uk "
   ]
  },
  {
   "cell_type": "code",
   "execution_count": null,
   "metadata": {},
   "outputs": [],
   "source": [
    "# This is the url you will scrape in this exercise\n",
    "url = 'https://data.gov.uk/'"
   ]
  },
  {
   "cell_type": "code",
   "execution_count": null,
   "metadata": {},
   "outputs": [],
   "source": [
    "#your code "
   ]
  },
  {
   "cell_type": "markdown",
   "metadata": {},
   "source": [
    "#### Top 10 languages by number of native speakers stored in a Pandas Dataframe"
   ]
  },
  {
   "cell_type": "code",
   "execution_count": null,
   "metadata": {},
   "outputs": [],
   "source": [
    "# This is the url you will scrape in this exercise\n",
    "url = 'https://en.wikipedia.org/wiki/List_of_languages_by_number_of_native_speakers'"
   ]
  },
  {
   "cell_type": "code",
   "execution_count": null,
   "metadata": {},
   "outputs": [],
   "source": [
    "#your code"
   ]
  },
  {
   "cell_type": "markdown",
   "metadata": {},
   "source": [
    "### BONUS QUESTIONS"
   ]
  },
  {
   "cell_type": "markdown",
   "metadata": {},
   "source": [
    "#### Scrape a certain number of tweets of a given Twitter account."
   ]
  },
  {
   "cell_type": "code",
   "execution_count": null,
   "metadata": {},
   "outputs": [],
   "source": [
    "# This is the url you will scrape in this exercise \n",
    "# You will need to add the account credentials to this url\n",
    "url = 'https://twitter.com/'"
   ]
  },
  {
   "cell_type": "code",
   "execution_count": null,
   "metadata": {},
   "outputs": [],
   "source": [
    "# your code"
   ]
  },
  {
   "cell_type": "markdown",
   "metadata": {},
   "source": [
    "#### IMDB's Top 250 data (movie name, Initial release, director name and stars) as a pandas dataframe"
   ]
  },
  {
   "cell_type": "code",
   "execution_count": null,
   "metadata": {},
   "outputs": [],
   "source": [
    "# This is the url you will scrape in this exercise \n",
    "url = 'https://www.imdb.com/chart/top'"
   ]
  },
  {
   "cell_type": "code",
   "execution_count": null,
   "metadata": {},
   "outputs": [],
   "source": [
    "# your code"
   ]
  },
  {
   "cell_type": "markdown",
   "metadata": {},
   "source": [
    "#### Movie name, year and a brief summary of the top 10 random movies (IMDB) as a pandas dataframe."
   ]
  },
  {
   "cell_type": "code",
   "execution_count": null,
   "metadata": {},
   "outputs": [],
   "source": [
    "#This is the url you will scrape in this exercise\n",
    "url = 'http://www.imdb.com/chart/top'"
   ]
  },
  {
   "cell_type": "code",
   "execution_count": null,
   "metadata": {},
   "outputs": [],
   "source": [
    "#your code"
   ]
  },
  {
   "cell_type": "markdown",
   "metadata": {},
   "source": [
    "#### Find the live weather report (temperature, wind speed, description and weather) of a given city."
   ]
  },
  {
   "cell_type": "code",
   "execution_count": null,
   "metadata": {},
   "outputs": [],
   "source": [
    "#https://openweathermap.org/current\n",
    "city = city=input('Enter the city:')\n",
    "url = 'http://api.openweathermap.org/data/2.5/weather?'+'q='+city+'&APPID=b35975e18dc93725acb092f7272cc6b8&units=metric'"
   ]
  },
  {
   "cell_type": "code",
   "execution_count": null,
   "metadata": {},
   "outputs": [],
   "source": [
    "# your code"
   ]
  },
  {
   "cell_type": "markdown",
   "metadata": {},
   "source": [
    "#### Book name,price and stock availability as a pandas dataframe."
   ]
  },
  {
   "cell_type": "code",
   "execution_count": null,
   "metadata": {},
   "outputs": [],
   "source": [
    "# This is the url you will scrape in this exercise. \n",
    "# It is a fictional bookstore created to be scraped. \n",
    "url = 'http://books.toscrape.com/'"
   ]
  },
  {
   "cell_type": "code",
   "execution_count": null,
   "metadata": {},
   "outputs": [],
   "source": [
    "#your code"
   ]
  }
 ],
 "metadata": {
  "kernelspec": {
   "display_name": "Python 3 (ipykernel)",
   "language": "python",
   "name": "python3"
  },
  "language_info": {
   "codemirror_mode": {
    "name": "ipython",
    "version": 3
   },
   "file_extension": ".py",
   "mimetype": "text/x-python",
   "name": "python",
   "nbconvert_exporter": "python",
   "pygments_lexer": "ipython3",
   "version": "3.9.12"
  }
 },
 "nbformat": 4,
 "nbformat_minor": 2
}
